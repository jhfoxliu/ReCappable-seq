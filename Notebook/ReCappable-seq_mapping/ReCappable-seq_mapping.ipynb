{
 "cells": [
  {
   "cell_type": "markdown",
   "id": "7ed3cee8",
   "metadata": {},
   "source": [
    "## Example for ReCappable-seq mapping"
   ]
  },
  {
   "cell_type": "markdown",
   "id": "631bdb37",
   "metadata": {},
   "source": [
    "### 0. Let check the example reads。"
   ]
  },
  {
   "cell_type": "code",
   "execution_count": 1,
   "id": "8a499195",
   "metadata": {},
   "outputs": [
    {
     "name": "stdout",
     "output_type": "stream",
     "text": [
      "-rw-rw-r-- 1 fox fox 27050914 Mar 28 13:17 read1.fastq\r\n",
      "-rw-rw-r-- 1 fox fox 27050914 Mar 28 13:18 read2.fastq\r\n"
     ]
    }
   ],
   "source": [
    "# example reads \n",
    "!ls -l read1.fastq read2.fastq"
   ]
  },
  {
   "cell_type": "code",
   "execution_count": 2,
   "id": "ea99b18e",
   "metadata": {},
   "outputs": [
    {
     "name": "stdout",
     "output_type": "stream",
     "text": [
      "@LH00376:50:22JMH5LT3:8:1101:3654:1048 1:N:0:TTCCTACT+GCAAGCAA\r\n",
      "CNTGATCGCAAATATAGCAGTTACACTGCGGCGGGCGTCTGTTCTAGTGTTTGAGCCGTCGTGCTTCACCGGTCTACCTCAGATCGGAAGAGCACACGTCT\r\n",
      "+\r\n",
      "I#IIIIIIIIIIIIIIIIIIIIIIIIIIIIIIIIIIIIII9IIIIIIIIIIII-III9IIIIIIIIIIIIIIIIIIIIIIIIIIIIIII-IIIIIIIIIII\r\n"
     ]
    }
   ],
   "source": [
    "# read1, [11 nt UMI]ATAT[first nucleotide]\n",
    "!head -4 read1.fastq"
   ]
  },
  {
   "cell_type": "markdown",
   "id": "e1ed631a",
   "metadata": {},
   "source": [
    "### 1. QC"
   ]
  },
  {
   "cell_type": "code",
   "execution_count": 3,
   "id": "9b2e975e",
   "metadata": {},
   "outputs": [
    {
     "name": "stdout",
     "output_type": "stream",
     "text": [
      "4.1\r\n"
     ]
    }
   ],
   "source": [
    "!cutadapt --version\n",
    "# 4.1"
   ]
  },
  {
   "cell_type": "code",
   "execution_count": 4,
   "id": "41c60798",
   "metadata": {},
   "outputs": [
    {
     "name": "stdout",
     "output_type": "stream",
     "text": [
      "UMI-tools version: 1.1.1\r\n"
     ]
    }
   ],
   "source": [
    "!umi_tools --version\n",
    "# UMI-tools version: 1.1.1"
   ]
  },
  {
   "cell_type": "code",
   "execution_count": 5,
   "id": "00faaa4a",
   "metadata": {},
   "outputs": [
    {
     "name": "stdout",
     "output_type": "stream",
     "text": [
      "This is cutadapt 4.1 with Python 3.9.14\n",
      "Command line parameters: -j 4 -m 30 -q 20 -e 0.25 --max-n 0 -a AGATCGGAAGAGCACACGTC -A ATATN{11}AGATCGGAAGAGCGTCGTG -o read1.cutadapt.fastq -p read2.cutadapt.fastq read1.fastq read2.fastq\n",
      "Processing paired-end reads on 4 cores ...\n",
      "Done           00:00:01       100,000 reads @  14.3 µs/read;   4.20 M reads/minute\n",
      "Finished in 1.45 s (15 µs/read; 4.13 M reads/minute).\n",
      "\n",
      "=== Summary ===\n",
      "\n",
      "Total read pairs processed:            100,000\n",
      "  Read 1 with adapter:                  46,770 (46.8%)\n",
      "  Read 2 with adapter:                  71,271 (71.3%)\n",
      "\n",
      "== Read fate breakdown ==\n",
      "Pairs that were too short:               6,671 (6.7%)\n",
      "Pairs with too many N:                      55 (0.1%)\n",
      "Pairs written (passing filters):        93,274 (93.3%)\n",
      "\n",
      "Total basepairs processed:    20,200,000 bp\n",
      "  Read 1:    10,100,000 bp\n",
      "  Read 2:    10,100,000 bp\n",
      "Quality-trimmed:                 132,592 bp (0.7%)\n",
      "  Read 1:        58,278 bp\n",
      "  Read 2:        74,314 bp\n",
      "Total written (filtered):     15,732,975 bp (77.9%)\n",
      "  Read 1:     8,281,942 bp\n",
      "  Read 2:     7,451,033 bp\n",
      "\n",
      "=== First read: Adapter 1 ===\n",
      "\n",
      "Sequence: AGATCGGAAGAGCACACGTC; Type: regular 3'; Length: 20; Trimmed: 46770 times\n",
      "\n",
      "Minimum overlap: 3\n",
      "No. of allowed errors:\n",
      "1-3 bp: 0; 4-7 bp: 1; 8-11 bp: 2; 12-15 bp: 3; 16-19 bp: 4; 20 bp: 5\n",
      "\n",
      "Bases preceding removed adapters:\n",
      "  A: 18.1%\n",
      "  C: 27.9%\n",
      "  G: 22.9%\n",
      "  T: 27.9%\n",
      "  none/other: 3.1%\n",
      "\n",
      "Overview of removed sequences\n",
      "length\tcount\texpect\tmax.err\terror counts\n",
      "3\t1774\t1562.5\t0\t1280 494\n",
      "4\t2826\t390.6\t1\t571 2255\n",
      "5\t1025\t97.7\t1\t516 509\n",
      "6\t751\t24.4\t1\t466 208 77\n",
      "7\t682\t6.1\t1\t444 69 169\n",
      "8\t618\t1.5\t2\t422 21 175\n",
      "9\t688\t0.4\t2\t555 41 87 5\n",
      "10\t701\t0.1\t2\t634 18 23 26\n",
      "11\t823\t0.0\t2\t721 25 41 36\n",
      "12\t486\t0.0\t3\t425 17 8 36\n",
      "13\t681\t0.0\t3\t615 29 7 28 2\n",
      "14\t555\t0.0\t3\t508 27 3 16 1\n",
      "15\t545\t0.0\t3\t517 23 2 2 1\n",
      "16\t452\t0.0\t4\t425 22 5\n",
      "17\t454\t0.0\t4\t418 27 6 1 2\n",
      "18\t475\t0.0\t4\t446 22 5 0 2\n",
      "19\t498\t0.0\t4\t457 28 9 0 3 1\n",
      "20\t553\t0.0\t5\t518 24 7 2 1 1\n",
      "21\t517\t0.0\t5\t470 37 3 3 0 4\n",
      "22\t570\t0.0\t5\t528 32 3 0 0 7\n",
      "23\t499\t0.0\t5\t453 35 6 0 3 2\n",
      "24\t475\t0.0\t5\t418 25 6 3 2 21\n",
      "25\t449\t0.0\t5\t411 22 4 3 1 8\n",
      "26\t495\t0.0\t5\t444 33 2 2 0 14\n",
      "27\t655\t0.0\t5\t604 36 6 2 2 5\n",
      "28\t693\t0.0\t5\t629 45 13 0 3 3\n",
      "29\t1086\t0.0\t5\t1010 59 13 0 2 2\n",
      "30\t882\t0.0\t5\t827 36 7 6 1 5\n",
      "31\t606\t0.0\t5\t566 26 5 3 1 5\n",
      "32\t842\t0.0\t5\t782 45 9 2 1 3\n",
      "33\t1877\t0.0\t5\t1764 84 19 3 1 6\n",
      "34\t531\t0.0\t5\t489 34 3 0 3 2\n",
      "35\t634\t0.0\t5\t588 32 6 1 1 6\n",
      "36\t675\t0.0\t5\t620 40 5 5 1 4\n",
      "37\t884\t0.0\t5\t821 45 8 5 2 3\n",
      "38\t662\t0.0\t5\t620 29 6 3 2 2\n",
      "39\t746\t0.0\t5\t684 49 7 2 0 4\n",
      "40\t1072\t0.0\t5\t973 74 14 5 3 3\n",
      "41\t903\t0.0\t5\t837 45 10 4 3 4\n",
      "42\t772\t0.0\t5\t699 46 16 3 2 6\n",
      "43\t760\t0.0\t5\t701 47 9 2 0 1\n",
      "44\t1395\t0.0\t5\t1288 76 20 5 5 1\n",
      "45\t1058\t0.0\t5\t973 60 11 8 2 4\n",
      "46\t1602\t0.0\t5\t1531 53 11 3 2 2\n",
      "47\t836\t0.0\t5\t760 66 9 1\n",
      "48\t988\t0.0\t5\t927 49 6 4 1 1\n",
      "49\t538\t0.0\t5\t493 37 5 3\n",
      "50\t534\t0.0\t5\t493 28 7 2 1 3\n",
      "51\t374\t0.0\t5\t349 20 3 0 1 1\n",
      "52\t666\t0.0\t5\t632 30 2 0 1 1\n",
      "53\t767\t0.0\t5\t743 17 4 1 0 2\n",
      "54\t278\t0.0\t5\t253 19 3 2 0 1\n",
      "55\t482\t0.0\t5\t458 21 3\n",
      "56\t481\t0.0\t5\t460 13 3 0 0 5\n",
      "57\t282\t0.0\t5\t271 7 0 1 0 3\n",
      "58\t71\t0.0\t5\t67 2 1 0 0 1\n",
      "59\t64\t0.0\t5\t59 2 0 1 0 2\n",
      "60\t19\t0.0\t5\t15 2 0 1 0 1\n",
      "61\t31\t0.0\t5\t18 6 0 0 0 7\n",
      "62\t18\t0.0\t5\t12 4 1 0 0 1\n",
      "63\t32\t0.0\t5\t27 2 1 0 1 1\n",
      "64\t16\t0.0\t5\t10 2 0 0 0 4\n",
      "65\t25\t0.0\t5\t22 0 0 1 0 2\n",
      "66\t22\t0.0\t5\t8 0 1 0 0 13\n",
      "67\t121\t0.0\t5\t42 1 0 0 0 78\n",
      "68\t100\t0.0\t5\t20 0 0 1 0 79\n",
      "69\t30\t0.0\t5\t12 3 1 0 0 14\n",
      "70\t17\t0.0\t5\t8 4 0 0 0 5\n",
      "71\t11\t0.0\t5\t7 0 1 0 0 3\n",
      "72\t23\t0.0\t5\t16 0 2 0 2 3\n",
      "73\t37\t0.0\t5\t29 4 1 0 0 3\n",
      "74\t72\t0.0\t5\t66 2 0 0 0 4\n",
      "75\t117\t0.0\t5\t106 6 1 0 2 2\n",
      "76\t61\t0.0\t5\t56 1 0 1 0 3\n",
      "77\t45\t0.0\t5\t36 2 1 2 0 4\n",
      "78\t23\t0.0\t5\t22 0 0 0 0 1\n",
      "79\t48\t0.0\t5\t43 1 2 1 1\n",
      "80\t17\t0.0\t5\t15 2\n",
      "81\t21\t0.0\t5\t21\n",
      "82\t62\t0.0\t5\t57 1 0 0 1 3\n",
      "83\t17\t0.0\t5\t14 0 0 0 0 3\n",
      "84\t4\t0.0\t5\t2 0 0 0 1 1\n",
      "85\t9\t0.0\t5\t8 0 0 0 0 1\n",
      "86\t19\t0.0\t5\t7 2 0 0 0 10\n",
      "87\t4\t0.0\t5\t3 1\n",
      "88\t15\t0.0\t5\t8 0 0 0 0 7\n",
      "89\t18\t0.0\t5\t15 1 2\n",
      "90\t64\t0.0\t5\t58 1 0 0 0 5\n",
      "91\t10\t0.0\t5\t8 2\n",
      "92\t56\t0.0\t5\t55 1\n",
      "93\t15\t0.0\t5\t12 2 0 0 1\n",
      "94\t46\t0.0\t5\t31 11 3 1\n",
      "95\t270\t0.0\t5\t244 18 6 2\n",
      "96\t170\t0.0\t5\t144 21 4 1\n",
      "97\t170\t0.0\t5\t150 15 2 1 0 2\n",
      "98\t191\t0.0\t5\t168 17 3 2 1\n",
      "99\t382\t0.0\t5\t329 37 16\n",
      "100\t751\t0.0\t5\t680 60 9 1 1\n",
      "101\t1303\t0.0\t5\t1154 123 17 2 7\n",
      "\n",
      "\n",
      "=== Second read: Adapter 2 ===\n",
      "\n",
      "Sequence: ATATNNNNNNNNNNNAGATCGGAAGAGCGTCGTG; Type: regular 3'; Length: 34; Trimmed: 71271 times\n",
      "\n",
      "Minimum overlap: 3\n",
      "No. of allowed errors:\n",
      "1-3 bp: 0; 4-7 bp: 1; 8-11 bp: 2; 12-15 bp: 3; 16-19 bp: 4; 20-23 bp: 5\n",
      "\n",
      "Bases preceding removed adapters:\n",
      "  A: 7.3%\n",
      "  C: 55.9%\n",
      "  G: 18.3%\n",
      "  T: 18.4%\n",
      "  none/other: 0.2%\n",
      "\n",
      "Overview of removed sequences\n",
      "length\tcount\texpect\tmax.err\terror counts\n",
      "3\t423\t1562.5\t0\t142 281\n",
      "4\t7773\t390.6\t1\t110 7663\n",
      "5\t1250\t97.7\t1\t151 1099\n",
      "6\t1584\t24.4\t1\t309 1275\n",
      "7\t1295\t6.1\t1\t142 1153\n",
      "8\t1290\t1.5\t2\t161 1129\n",
      "9\t1449\t0.4\t2\t263 1186\n",
      "10\t1711\t0.1\t2\t439 1272\n",
      "11\t1703\t0.0\t2\t459 1244\n",
      "12\t2031\t0.0\t3\t302 1729\n",
      "13\t2580\t0.0\t3\t372 2208\n",
      "14\t2825\t0.0\t3\t900 1925\n",
      "15\t3639\t0.0\t3\t822 2817\n",
      "16\t1815\t0.0\t4\t856 959\n",
      "17\t1340\t0.0\t4\t1016 304 20\n",
      "18\t854\t0.0\t4\t632 130 92\n",
      "19\t594\t0.0\t4\t451 26 117\n",
      "20\t551\t0.0\t5\t495 18 36 2\n",
      "21\t496\t0.0\t5\t460 18 13 5\n",
      "22\t473\t0.0\t5\t441 18 3 11\n",
      "23\t454\t0.0\t5\t413 14 8 19\n",
      "24\t554\t0.0\t5\t516 26 7 4 1\n",
      "25\t708\t0.0\t5\t662 34 7 3 2\n",
      "26\t743\t0.0\t5\t700 32 4 4 3\n",
      "27\t488\t0.0\t5\t455 25 4 2 2\n",
      "28\t646\t0.0\t5\t602 35 6 2 1\n",
      "29\t519\t0.0\t5\t490 18 6 3 2\n",
      "30\t557\t0.0\t5\t513 31 8 3 2\n",
      "31\t451\t0.0\t5\t420 16 7 4 3 1\n",
      "32\t443\t0.0\t5\t412 22 3 4 0 2\n",
      "33\t531\t0.0\t5\t463 50 14 2 1 1\n",
      "34\t735\t0.0\t5\t645 64 17 5 4\n",
      "35\t741\t0.0\t5\t679 38 19 1 2 2\n",
      "36\t228\t0.0\t5\t181 31 6 4 2 4\n",
      "37\t509\t0.0\t5\t468 29 7 1 3 1\n",
      "38\t505\t0.0\t5\t462 30 9 1 2 1\n",
      "39\t531\t0.0\t5\t474 42 8 4 3\n",
      "40\t383\t0.0\t5\t349 20 10 2 2\n",
      "41\t518\t0.0\t5\t466 42 5 3 2\n",
      "42\t1141\t0.0\t5\t1070 54 11 4 1 1\n",
      "43\t263\t0.0\t5\t208 37 14 2 0 2\n",
      "44\t1512\t0.0\t5\t1420 68 15 3 3 3\n",
      "45\t534\t0.0\t5\t465 53 7 3 3 3\n",
      "46\t939\t0.0\t5\t895 33 4 4 1 2\n",
      "47\t362\t0.0\t5\t290 51 13 3 2 3\n",
      "48\t2264\t0.0\t5\t2124 99 27 5 5 4\n",
      "49\t258\t0.0\t5\t206 41 7 2 2\n",
      "50\t1045\t0.0\t5\t986 39 13 1 3 3\n",
      "51\t351\t0.0\t5\t295 36 8 5 4 3\n",
      "52\t992\t0.0\t5\t928 40 12 7 5\n",
      "53\t527\t0.0\t5\t473 37 10 2 4 1\n",
      "54\t812\t0.0\t5\t758 41 10 2 1\n",
      "55\t908\t0.0\t5\t808 60 16 9 10 5\n",
      "56\t1258\t0.0\t5\t1169 61 13 7 5 3\n",
      "57\t351\t0.0\t5\t299 33 4 5 3 7\n",
      "58\t1146\t0.0\t5\t1085 46 8 4 0 3\n",
      "59\t321\t0.0\t5\t250 45 12 6 4 4\n",
      "60\t2185\t0.0\t5\t2045 85 29 10 6 10\n",
      "61\t853\t0.0\t5\t754 71 13 5 8 2\n",
      "62\t888\t0.0\t5\t791 59 21 7 7 3\n",
      "63\t1069\t0.0\t5\t1005 40 13 4 3 4\n",
      "64\t329\t0.0\t5\t293 25 5 3 3\n",
      "65\t535\t0.0\t5\t500 21 9 3 2\n",
      "66\t260\t0.0\t5\t237 14 5 2 1 1\n",
      "67\t562\t0.0\t5\t536 16 6 3 0 1\n",
      "68\t180\t0.0\t5\t162 8 7 0 1 2\n",
      "69\t444\t0.0\t5\t401 33 4 5 0 1\n",
      "70\t422\t0.0\t5\t385 23 8 3 0 3\n",
      "71\t99\t0.0\t5\t82 12 3 1 0 1\n",
      "72\t156\t0.0\t5\t141 12 2 1\n",
      "73\t242\t0.0\t5\t215 13 8 2 3 1\n",
      "74\t145\t0.0\t5\t125 10 6 0 4\n",
      "75\t131\t0.0\t5\t118 9 0 2 2\n",
      "76\t123\t0.0\t5\t114 6 1 1 1\n",
      "77\t154\t0.0\t5\t146 4 3 0 0 1\n",
      "78\t89\t0.0\t5\t77 2 7 1 1 1\n",
      "79\t191\t0.0\t5\t178 5 5 0 2 1\n",
      "80\t64\t0.0\t5\t45 1 10 3 2 3\n",
      "81\t56\t0.0\t5\t45 3 6 0 1 1\n",
      "82\t113\t0.0\t5\t96 7 9 0 0 1\n",
      "83\t40\t0.0\t5\t31 5 2 1 0 1\n",
      "84\t41\t0.0\t5\t32 2 1 1 3 2\n",
      "85\t53\t0.0\t5\t42 5 1 2 3\n",
      "86\t41\t0.0\t5\t22 8 2 4 3 2\n",
      "87\t49\t0.0\t5\t17 2 10 5 9 6\n",
      "88\t142\t0.0\t5\t113 13 8 2 4 2\n",
      "89\t142\t0.0\t5\t113 11 4 5 5 4\n",
      "90\t200\t0.0\t5\t172 13 5 3 4 3\n",
      "91\t40\t0.0\t5\t35 0 3 1 0 1\n",
      "92\t13\t0.0\t5\t9 1 2 0 0 1\n",
      "93\t18\t0.0\t5\t14 0 1 1 2\n",
      "94\t51\t0.0\t5\t39 3 2 2 3 2\n",
      "95\t22\t0.0\t5\t16 3 0 0 1 2\n",
      "96\t22\t0.0\t5\t15 2 1 2 0 2\n",
      "97\t70\t0.0\t5\t64 4 0 0 1 1\n",
      "98\t15\t0.0\t5\t12 1 2\n",
      "99\t6\t0.0\t5\t4 0 1 0 1\n",
      "100\t20\t0.0\t5\t4 1 2 0 8 5\n",
      "101\t92\t0.0\t5\t8 1 4 4 66 9\n"
     ]
    }
   ],
   "source": [
    "!cutadapt -j 4 -m 30 -q 20 -e 0.25 --max-n 0 -a AGATCGGAAGAGCACACGTC -A ATATN{{11}}AGATCGGAAGAGCGTCGTG -o read1.cutadapt.fastq -p read2.cutadapt.fastq read1.fastq read2.fastq"
   ]
  },
  {
   "cell_type": "code",
   "execution_count": 6,
   "id": "ad5d12f2",
   "metadata": {},
   "outputs": [],
   "source": [
    "!umi_tools extract -I read1.cutadapt.fastq -S read1.umi.fastq --read2-in=read2.cutadapt.fastq --read2-out=read2.umi.fastq -p NNNNNNNNNNNNNNN --log=test_reads.log"
   ]
  },
  {
   "cell_type": "markdown",
   "id": "f5fc7432",
   "metadata": {},
   "source": [
    "## 2. Mapping"
   ]
  },
  {
   "cell_type": "code",
   "execution_count": 7,
   "id": "b02ea2a1",
   "metadata": {},
   "outputs": [
    {
     "name": "stdout",
     "output_type": "stream",
     "text": [
      "/home/fox/Software/hisat2/2.2.1/hisat2-align-s version 2.2.1\r\n",
      "64-bit\r\n",
      "Built on Nucleus005\r\n",
      "Wed Dec  2 16:48:17 CST 2020\r\n",
      "Compiler: gcc version 5.4.0 (GCC) \r\n",
      "Options: -O3 -m64 -msse2 -funroll-loops -g3 -DPOPCNT_CAPABILITY -std=c++11\r\n",
      "Sizeof {int, long, long long, void*, size_t, off_t}: {4, 8, 8, 8, 8, 8}\r\n"
     ]
    }
   ],
   "source": [
    "!hisat2 --version\n",
    "#2.2.1"
   ]
  },
  {
   "cell_type": "code",
   "execution_count": 8,
   "id": "6c0f7041",
   "metadata": {},
   "outputs": [
    {
     "name": "stdout",
     "output_type": "stream",
     "text": [
      "samtools 1.16.1\r\n",
      "Using htslib 1.16\r\n",
      "Copyright (C) 2022 Genome Research Ltd.\r\n",
      "\r\n",
      "Samtools compilation details:\r\n",
      "    Features:       build=configure curses=yes \r\n",
      "    CC:             gcc\r\n",
      "    CPPFLAGS:       \r\n",
      "    CFLAGS:         -Wall -g -O2\r\n",
      "    LDFLAGS:        \r\n",
      "    HTSDIR:         htslib-1.16\r\n",
      "    LIBS:           \r\n",
      "    CURSES_LIB:     -lncursesw\r\n",
      "\r\n",
      "HTSlib compilation details:\r\n",
      "    Features:       build=configure libcurl=yes S3=yes GCS=yes libdeflate=no lzma=yes bzip2=yes plugins=no htscodecs=1.3.0\r\n",
      "    CC:             gcc\r\n",
      "    CPPFLAGS:       \r\n",
      "    CFLAGS:         -Wall -g -O2 -fvisibility=hidden\r\n",
      "    LDFLAGS:        -fvisibility=hidden \r\n",
      "\r\n",
      "HTSlib URL scheme handlers present:\r\n",
      "    built-in:\t preload, data, file\r\n",
      "    S3 Multipart Upload:\t s3w, s3w+https, s3w+http\r\n",
      "    Amazon S3:\t s3+https, s3+http, s3\r\n",
      "    Google Cloud Storage:\t gs+http, gs+https, gs\r\n",
      "    libcurl:\t imaps, pop3, http, smb, gopher, sftp, ftps, imap, smtp, smtps, rtsp, scp, ftp, telnet, rtmp, ldap, https, ldaps, smbs, tftp, pop3s, dict\r\n",
      "    crypt4gh-needed:\t crypt4gh\r\n",
      "    mem:\t mem\r\n"
     ]
    }
   ],
   "source": [
    "!samtools --version\n",
    "# 1.16.1"
   ]
  },
  {
   "cell_type": "markdown",
   "id": "e9873e21",
   "metadata": {},
   "source": [
    "For reference genome, I used GRCh38 (Gencode v45)\n",
    "\n",
    "Please replace `/home/fox/Database/hisat2/GRCh38_Gencode_v45_nochr_correct/GRCh38.primary_assembly.genome.nochr` by your own indexes.\n",
    "\n",
    "Also I suggest remove rRNA and other ncRNA by mapping the reads to rRNA and ncRNA reference by bowtie2, not included in this notebook."
   ]
  },
  {
   "cell_type": "code",
   "execution_count": null,
   "id": "0835cfd8",
   "metadata": {},
   "outputs": [],
   "source": [
    "!hisat2 -x /home/fox/Database/hisat2/GRCh38_Gencode_v45_nochr_correct/GRCh38.primary_assembly.genome.nochr --no-temp-splicesite --no-discordant --no-mixed --fr --rna-strandness FR -p 6 -1 read1.umi.fastq -2 read2.umi.fastq | samtools view -bS -F 4 -@ 6 -o hisat2.bam"
   ]
  },
  {
   "cell_type": "code",
   "execution_count": null,
   "id": "499aa141",
   "metadata": {},
   "outputs": [],
   "source": [
    "# output\n",
    "!samtools view hisat2.bam | head -3"
   ]
  },
  {
   "cell_type": "code",
   "execution_count": null,
   "id": "9afe1728",
   "metadata": {},
   "outputs": [],
   "source": [
    "!samtools sort -o hisat2.sorted.bam hisat2.bam\n",
    "!samtools index hisat2.sorted.bam"
   ]
  },
  {
   "cell_type": "markdown",
   "id": "727cb63b",
   "metadata": {},
   "source": [
    "## 3. UMI tools dedup"
   ]
  },
  {
   "cell_type": "code",
   "execution_count": null,
   "id": "76e1daed",
   "metadata": {},
   "outputs": [],
   "source": [
    "!python --version\n",
    "# Python 3.9.14"
   ]
  },
  {
   "cell_type": "code",
   "execution_count": null,
   "id": "e11ffb6b",
   "metadata": {},
   "outputs": [],
   "source": [
    "# I have a script to double check whether the UMI sequence ends with ATAT. You can change my code to specify the end of adapter. You can also skip this step.\n",
    "# usage: python check_UMI.py <in.bam> <out.bam>\n",
    "!python check_UMI.py hisat2.sorted.bam hisat2.clean.bam "
   ]
  },
  {
   "cell_type": "code",
   "execution_count": null,
   "id": "e144659e",
   "metadata": {},
   "outputs": [],
   "source": [
    "!samtools index hisat2.clean.bam"
   ]
  },
  {
   "cell_type": "code",
   "execution_count": null,
   "id": "b8443f69",
   "metadata": {},
   "outputs": [],
   "source": [
    "!umi_tools dedup --paired --chimeric-pairs=discard --unpaired-reads=discard --stdin=hisat2.clean.bam  --log=umi.logs --method=unique > hisat2.clean.dedup.bam"
   ]
  },
  {
   "cell_type": "code",
   "execution_count": null,
   "id": "9ba85854",
   "metadata": {},
   "outputs": [],
   "source": [
    "!samtools index hisat2.clean.dedup.bam"
   ]
  },
  {
   "cell_type": "markdown",
   "id": "ecd70b8e",
   "metadata": {},
   "source": [
    "## 4. Get coverage of the 5' ends"
   ]
  },
  {
   "cell_type": "code",
   "execution_count": null,
   "id": "6d8ff046",
   "metadata": {},
   "outputs": [],
   "source": [
    "!python BAM_to_BED_5prime.py hisat2.clean.dedup.bam > test.bed"
   ]
  },
  {
   "cell_type": "code",
   "execution_count": null,
   "id": "c8371d04",
   "metadata": {},
   "outputs": [],
   "source": [
    "!head -10 test.bed\n",
    "# columns:\n",
    "# chr, position 0-based, position 1-based, placeholder, read number, strand"
   ]
  },
  {
   "cell_type": "code",
   "execution_count": null,
   "id": "35a43164",
   "metadata": {},
   "outputs": [],
   "source": []
  }
 ],
 "metadata": {
  "kernelspec": {
   "display_name": "Python 3 (ipykernel)",
   "language": "python",
   "name": "python3"
  },
  "language_info": {
   "codemirror_mode": {
    "name": "ipython",
    "version": 3
   },
   "file_extension": ".py",
   "mimetype": "text/x-python",
   "name": "python",
   "nbconvert_exporter": "python",
   "pygments_lexer": "ipython3",
   "version": "3.9.14"
  }
 },
 "nbformat": 4,
 "nbformat_minor": 5
}
