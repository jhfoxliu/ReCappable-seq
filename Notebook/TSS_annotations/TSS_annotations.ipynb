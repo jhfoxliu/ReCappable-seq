{
 "cells": [
  {
   "cell_type": "markdown",
   "id": "c6f341b4",
   "metadata": {},
   "source": [
    "## TSS annotation pipeline"
   ]
  },
  {
   "cell_type": "markdown",
   "id": "c8a519dd",
   "metadata": {},
   "source": [
    "## 0. Required initiatial annotation files"
   ]
  },
  {
   "cell_type": "code",
   "execution_count": 1,
   "id": "ffa20ac7",
   "metadata": {},
   "outputs": [
    {
     "name": "stdout",
     "output_type": "stream",
     "text": [
      "usage:  [-h] -i INPUT [-o OUTPUT] -f FASTA -t TSS_DB -e EXONS_DB -a ANNOT\r\n",
      "        [-b BLAST_DB] [-r REPEATS] [--bedtools BEDTOOLS] [--blastn BLASTN]\r\n",
      "\r\n",
      "optional arguments:\r\n",
      "  -h, --help            show this help message and exit\r\n",
      "\r\n",
      "Required:\r\n",
      "  -i INPUT              Input TSS BED files\r\n",
      "  -o OUTPUT, --output OUTPUT\r\n",
      "                        Output\r\n",
      "  -f FASTA, --fasta FASTA\r\n",
      "  -t TSS_DB, --tss TSS_DB\r\n",
      "  -e EXONS_DB, --exons EXONS_DB\r\n",
      "  -a ANNOT, --annot ANNOT\r\n",
      "  -b BLAST_DB, --blastdb BLAST_DB\r\n",
      "  -r REPEATS, --repeats REPEATS\r\n",
      "  --bedtools BEDTOOLS\r\n",
      "  --blastn BLASTN\r\n"
     ]
    }
   ],
   "source": [
    "# script.\n",
    "# this file is designed for Genocde v45.\n",
    "\n",
    "!python TSS_site_list_annotate.Gencode_v45.py -h"
   ]
  },
  {
   "cell_type": "markdown",
   "id": "7acf0148",
   "metadata": {},
   "source": [
    "\n",
    "\n",
    "Parameters:\n",
    "\n",
    "`-i The input BED file`\n",
    "\n",
    "`-o The prefix of the outputs.`\n",
    "\n",
    "`-f FASTA file for the genomic sequence.`\n",
    "\n",
    "`-t A BED file annotating the TSSs (see below).`\n",
    "\n",
    "`-e A BED file annotating the first exons (see below).`\n",
    "\n",
    "`-a A table, which is very similar to the output in UCSC table browser (see below).`\n",
    "\n",
    "`-b A database for BLAST for snRNA and snoRNA. Optional.`\n",
    "\n",
    "`-r A BED file annotating the repeat elements. Optional. Can download from UCSC table browser. The 5th column will be used.`\n",
    "\n",
    "`--bedtools The executable file of bedtools. Optional.`\n",
    "\n",
    "`--blastn The executable file of blastn. Optional.`\n",
    "\n",
    "In this example, I just use one chromosome.\n",
    "`"
   ]
  },
  {
   "cell_type": "markdown",
   "id": "b7aece27",
   "metadata": {},
   "source": [
    "## 1. Makiing metadata"
   ]
  },
  {
   "cell_type": "markdown",
   "id": "23e6313c",
   "metadata": {},
   "source": [
    "Please make sure that the chromosome names in the FASTA file match those in the gtf. e.g., chr1 vs 1 is not OK."
   ]
  },
  {
   "cell_type": "code",
   "execution_count": 2,
   "id": "7ede83cf",
   "metadata": {},
   "outputs": [],
   "source": [
    "!python ./ANNOTATIONS/gtf2anno_plus_gencode.py3.py -i ./ANNOTATIONS/chr1.gtf > ./ANNOTATIONS/chr1.anno"
   ]
  },
  {
   "cell_type": "code",
   "execution_count": 3,
   "id": "edc5f550",
   "metadata": {},
   "outputs": [
    {
     "name": "stdout",
     "output_type": "stream",
     "text": [
      "lncRNA,lncRNA\tENST00000456328.2\t1\t+\t11868\t14409\t.\t.\t3\t11868,12612,13220,\t12227,12721,14409,\t.\tENSG00000290825.1\tDDX11L2\t.\t.\r\n",
      "transcribed_unprocessed_pseudogene,transcribed_unprocessed_pseudogene\tENST00000450305.2\t1\t+\t12009\t13670\t.\t.\t6\t12009,12178,12612,12974,13220,13452,\t12057,12227,12697,13052,13374,13670,\t.\tENSG00000223972.6\tDDX11L1\t.\t.\r\n"
     ]
    }
   ],
   "source": [
    "!head -2 ./ANNOTATIONS/chr1.anno"
   ]
  },
  {
   "cell_type": "code",
   "execution_count": 4,
   "id": "8fa3b6cb",
   "metadata": {},
   "outputs": [],
   "source": [
    "!python ./ANNOTATIONS/anno_to_first_exon_end.py  ./ANNOTATIONS/chr1.anno | bedtools sort -i - >  ./ANNOTATIONS/chr1.first_exon.bed "
   ]
  },
  {
   "cell_type": "code",
   "execution_count": 5,
   "id": "d49f3338",
   "metadata": {},
   "outputs": [
    {
     "name": "stdout",
     "output_type": "stream",
     "text": [
      "1\t65432\t65433\tENST00000641515.2\tOR4F5\t+\r\n",
      "1\t450739\t450740\tENST00000426406.4\tOR4F29\t-\r\n"
     ]
    }
   ],
   "source": [
    "!head -2 ./ANNOTATIONS/chr1.first_exon.bed "
   ]
  },
  {
   "cell_type": "code",
   "execution_count": 6,
   "id": "c46e2a81",
   "metadata": {},
   "outputs": [],
   "source": [
    "!python ./ANNOTATIONS/anno_to_tss.py  ./ANNOTATIONS/chr1.anno | bedtools sort -i - >  ./ANNOTATIONS/chr1.tss.bed "
   ]
  },
  {
   "cell_type": "code",
   "execution_count": 7,
   "id": "24fc5577",
   "metadata": {},
   "outputs": [
    {
     "name": "stdout",
     "output_type": "stream",
     "text": [
      "1\t65432\t65433\tENST00000641515.2\tOR4F5\t+\r\n",
      "1\t450739\t450740\tENST00000426406.4\tOR4F29\t-\r\n"
     ]
    }
   ],
   "source": [
    "!head -2 ./ANNOTATIONS/chr1.first_exon.bed "
   ]
  },
  {
   "cell_type": "markdown",
   "id": "477e2c7d",
   "metadata": {},
   "source": [
    "## 2. Run annotations"
   ]
  },
  {
   "cell_type": "markdown",
   "id": "03b9e53a",
   "metadata": {},
   "source": [
    "I used the test mapping results (chr1).\n",
    "\n",
    "Please include all the scripts in the same folder:\n",
    "\n",
    "* genome_flanking_v3.py\n",
    "* collaspe_bed_annotations_v3.py\n",
    "* collaspe_bed_annotations_fix_other_exons_v2.py\n",
    "* collaspe_bed_annotations_fix_upstream_TSS.py\n"
   ]
  },
  {
   "cell_type": "code",
   "execution_count": 9,
   "id": "8c7c4002",
   "metadata": {},
   "outputs": [],
   "source": [
    "# sort bed file first\n",
    "!bedtools sort -i  test.chr1.bed >  test.chr1.sorted.bed"
   ]
  },
  {
   "cell_type": "code",
   "execution_count": null,
   "id": "25cb5a4b",
   "metadata": {},
   "outputs": [
    {
     "name": "stdout",
     "output_type": "stream",
     "text": [
      "[2025-03-28 14:31:46] Analysis begins.\n",
      "[2025-03-28 14:31:47] Reference loaded.\n",
      "[2025-03-28 14:31:47] Searching for snRNA/snoRNA like sequences...\n",
      "[2025-03-28 14:31:48] Getting fasta...\n",
      "python genome_flanking_v3.py -U 0 -D 50 -f ./ANNOTATIONS/chr1.fa -i test.chr1.annotated.csv.site > test.chr1.annotated.csv.fa\n",
      "[2025-03-28 14:31:50] Proceed to gene annotation...\n",
      "bedtools closest -s -D b -a test.chr1.sorted.bed -b ./ANNOTATIONS/chr1.tss.bed > test.chr1.annotated.csv.closest_tss.bed\n",
      "bedtools closest -S -D b -a test.chr1.sorted.bed -b ./ANNOTATIONS/chr1.tss.bed > test.chr1.annotated.csv.closest_tss.upstream.bed\n",
      "bedtools closest -s -D b -a test.chr1.sorted.bed -b ./ANNOTATIONS/chr1.first_exon.bed > test.chr1.annotated.csv.closest_exons.bed\n",
      "[2025-03-28 14:31:50] Collasping annotations...\n",
      "python collaspe_bed_annotations_v3.py -i test.chr1.annotated.csv.closest_tss.bed -a ./ANNOTATIONS/chr1.anno -o test.chr1.annotated.csv.collasped.1.bed\n",
      "python collaspe_bed_annotations_fix_other_exons_v2.py -a ./ANNOTATIONS/chr1.anno -i test.chr1.annotated.csv.collasped.1.bed -I test.chr1.annotated.csv.closest_exons.bed -o test.chr1.annotated.csv.collasped.2.bed \n",
      "python collaspe_bed_annotations_fix_upstream_TSS.py  --thresh-min -2000 --thresh-max 2000 -a ./ANNOTATIONS/chr1.anno -i test.chr1.annotated.csv.collasped.2.bed -I test.chr1.annotated.csv.closest_tss.upstream.bed -o test.chr1.annotated.csv.collasped_final.bed \n",
      "bedtools intersect -wa -wb -a test.chr1.sorted.bed -b hg38_repeats.nochr.sorted.bed > test.chr1.annotated.csv.repeats.bed\n",
      "[2025-03-28 14:32:02] DONE!\n"
     ]
    }
   ],
   "source": [
    "!python TSS_site_list_annotate.Gencode_v45.py -i test.chr1.sorted.bed -o test.chr1.annotated.csv -f ./ANNOTATIONS/chr1.fa -a ./ANNOTATIONS/chr1.anno -t ./ANNOTATIONS/chr1.tss.bed -e ./ANNOTATIONS/chr1.first_exon.bed -b BLASTDB/snRNA_snoRNA_blast -r ./ANNOTATIONS/hg38_repeats.nochr.sorted.bed  \n"
   ]
  },
  {
   "cell_type": "code",
   "execution_count": 12,
   "id": "803613c2",
   "metadata": {},
   "outputs": [
    {
     "name": "stdout",
     "output_type": "stream",
     "text": [
      "chr,pos_1,strand,pos_0,snRNA_snoRNA_like,Gene,Gene_biotype,Annotate_to_closest,Relative_distance,Repeat\r\n",
      "1,199044,-,199043,False,UNKNOWN,UNKNOWN,UNKNOWN,NA,\r\n",
      "1,629572,+,629571,False,MTND2P28,unprocessed_pseudogene,TSS,-68,\r\n",
      "1,631259,+,631258,False,ENSG00000293331,lncRNA,UPSTREAM,55,\r\n",
      "1,827692,+,827691,False,LINC01128,lncRNA,TSS,0,\r\n",
      "1,925743,+,925742,False,SAMD11,protein_coding,TSS,12,\r\n",
      "1,959256,-,959255,False,NOC2L,protein_coding,TSS,0,\r\n",
      "1,959258,-,959257,False,NOC2L,protein_coding,TSS,-2,\r\n",
      "1,959271,-,959270,False,NOC2L,protein_coding,TSS,-15,\r\n",
      "1,1000071,-,1000070,False,HES4,protein_coding,TSS,25,\r\n"
     ]
    }
   ],
   "source": [
    "!head test.chr1.annotated.csv"
   ]
  },
  {
   "cell_type": "markdown",
   "id": "9a83c3e8",
   "metadata": {},
   "source": [
    "Columns:\n",
    "\n",
    "chr: chromosome\n",
    "\n",
    "pos_1: coordinate 1-based\n",
    "\n",
    "strand: strand\n",
    "\n",
    "pos_0: coordinate 0-based\n",
    "\n",
    "snRNA_snoRNA_like: whether similar to snRNA/snoRNA?\n",
    "\n",
    "Gene: Gene name\n",
    "\n",
    "Gene_biotype: Gene biotype\n",
    "\n",
    "Annotate_to_closest: which kind of annotation? TSS - known TSS; EXON - far away (100 nt) from known TSS but locate in the first exon.\n",
    "\n",
    "Repeat: whether locate in repeat elements?"
   ]
  }
 ],
 "metadata": {
  "kernelspec": {
   "display_name": "Python 3 (ipykernel)",
   "language": "python",
   "name": "python3"
  },
  "language_info": {
   "codemirror_mode": {
    "name": "ipython",
    "version": 3
   },
   "file_extension": ".py",
   "mimetype": "text/x-python",
   "name": "python",
   "nbconvert_exporter": "python",
   "pygments_lexer": "ipython3",
   "version": "3.9.14"
  }
 },
 "nbformat": 4,
 "nbformat_minor": 5
}
